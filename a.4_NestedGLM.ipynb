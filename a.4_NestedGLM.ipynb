{
 "cells": [
  {
   "cell_type": "code",
   "execution_count": 1,
   "id": "e02af5e3",
   "metadata": {},
   "outputs": [],
   "source": [
    "import pandas as pd\n",
    "import numpy as np\n",
    "import matplotlib.pyplot as plt\n",
    "import seaborn as sns\n",
    "import statsmodels.api as sm\n",
    "import statsmodels.formula.api as smf\n",
    "from sklearn.metrics import mean_absolute_error as MAE\n",
    "from sklearn.metrics import mean_squared_error as MSE"
   ]
  },
  {
   "cell_type": "markdown",
   "id": "d98da61a",
   "metadata": {},
   "source": [
    "#### Model 4: Nested GLM"
   ]
  },
  {
   "cell_type": "code",
   "execution_count": 2,
   "id": "ee8ae0a8",
   "metadata": {},
   "outputs": [],
   "source": [
    "train=pd.read_csv('data/model_train_terr.csv', index_col=0)\n",
    "test=pd.read_csv('data/model_test_terr.csv', index_col=0)\n",
    "test['VehGroup_wtd'].fillna(0, inplace=True)"
   ]
  },
  {
   "cell_type": "code",
   "execution_count": 3,
   "id": "87e52d5b",
   "metadata": {},
   "outputs": [],
   "source": [
    "y_col='Cnt'\n",
    "glm_index=['deviance','bic','aic']\n",
    "score_index=['RMSE_train','RMSE_test','RMAE_train','RMAE_test']\n",
    "expr_list=['',' + VehGroup_wtd',' + VehGroup_wtd + State']\n",
    "cls_list=['cls_0', 'territory_cls']\n",
    "for cls in cls_list:\n",
    "    expr_list.append(' + VehGroup_wtd + '+cls)\n",
    "glm_score=np.zeros((3,len(expr_list)))\n",
    "score=np.zeros((4,len(expr_list)))\n",
    "for idx,e in enumerate(expr_list):\n",
    "    expr_ = \"Cnt ~ VehYear + Gender * DrivAge\" + e\n",
    "    FreqPoisson = smf.glm(formula=expr_, data=train, offset=np.log(train['Expo']), \n",
    "               family=sm.families.Poisson(link=sm.families.links.Log())).fit()\n",
    "    pred_test=FreqPoisson.predict(test, offset=np.log(test['Expo']))\n",
    "\n",
    "    glm_score[:,idx]=[FreqPoisson.deviance, FreqPoisson.bic_llf, FreqPoisson.aic]\n",
    "    score[:,idx]=[\n",
    "        MSE(y_true=train[y_col], y_pred=FreqPoisson.fittedvalues, sample_weight=train['Expo']),\n",
    "        MSE(y_true=test[y_col], y_pred=pred_test, sample_weight=test['Expo']),\n",
    "        MAE(y_true=train[y_col], y_pred=FreqPoisson.fittedvalues, sample_weight=train['Expo']),\n",
    "        MAE(y_true=test[y_col], y_pred=pred_test, sample_weight=test['Expo'])\n",
    "    ]\n",
    "dfDeviance=pd.DataFrame(glm_score, index=glm_index, columns=expr_list).transpose()\n",
    "dfError=pd.DataFrame(score, index=score_index, columns=expr_list).transpose()\n"
   ]
  },
  {
   "cell_type": "code",
   "execution_count": 4,
   "id": "f8cc1590",
   "metadata": {},
   "outputs": [
    {
     "data": {
      "text/html": [
       "<div>\n",
       "<style scoped>\n",
       "    .dataframe tbody tr th:only-of-type {\n",
       "        vertical-align: middle;\n",
       "    }\n",
       "\n",
       "    .dataframe tbody tr th {\n",
       "        vertical-align: top;\n",
       "    }\n",
       "\n",
       "    .dataframe thead th {\n",
       "        text-align: right;\n",
       "    }\n",
       "</style>\n",
       "<table border=\"1\" class=\"dataframe\">\n",
       "  <thead>\n",
       "    <tr style=\"text-align: right;\">\n",
       "      <th></th>\n",
       "      <th>deviance</th>\n",
       "      <th>deviance_diff</th>\n",
       "      <th>bic</th>\n",
       "      <th>bic_diff</th>\n",
       "      <th>aic</th>\n",
       "      <th>aic_diff</th>\n",
       "    </tr>\n",
       "  </thead>\n",
       "  <tbody>\n",
       "    <tr>\n",
       "      <th>Model_1</th>\n",
       "      <td>208167.0</td>\n",
       "      <td>NaN</td>\n",
       "      <td>337418.0</td>\n",
       "      <td>NaN</td>\n",
       "      <td>337288.0</td>\n",
       "      <td>NaN</td>\n",
       "    </tr>\n",
       "    <tr>\n",
       "      <th>+ VehGroup_wtd</th>\n",
       "      <td>205215.0</td>\n",
       "      <td>-2952.0</td>\n",
       "      <td>334479.0</td>\n",
       "      <td>-2938.0</td>\n",
       "      <td>334338.0</td>\n",
       "      <td>-2950.0</td>\n",
       "    </tr>\n",
       "    <tr>\n",
       "      <th>+ VehGroup_wtd + State</th>\n",
       "      <td>204192.0</td>\n",
       "      <td>-1024.0</td>\n",
       "      <td>333814.0</td>\n",
       "      <td>-666.0</td>\n",
       "      <td>333367.0</td>\n",
       "      <td>-972.0</td>\n",
       "    </tr>\n",
       "    <tr>\n",
       "      <th>+ VehGroup_wtd + cls_0</th>\n",
       "      <td>204202.0</td>\n",
       "      <td>10.0</td>\n",
       "      <td>333783.0</td>\n",
       "      <td>-31.0</td>\n",
       "      <td>333371.0</td>\n",
       "      <td>4.0</td>\n",
       "    </tr>\n",
       "    <tr>\n",
       "      <th>+ VehGroup_wtd + territory_cls</th>\n",
       "      <td>205060.0</td>\n",
       "      <td>858.0</td>\n",
       "      <td>334338.0</td>\n",
       "      <td>555.0</td>\n",
       "      <td>334185.0</td>\n",
       "      <td>814.0</td>\n",
       "    </tr>\n",
       "  </tbody>\n",
       "</table>\n",
       "</div>"
      ],
      "text/plain": [
       "                                 deviance  deviance_diff       bic  bic_diff  \\\n",
       "Model_1                          208167.0            NaN  337418.0       NaN   \n",
       " + VehGroup_wtd                  205215.0        -2952.0  334479.0   -2938.0   \n",
       " + VehGroup_wtd + State          204192.0        -1024.0  333814.0    -666.0   \n",
       " + VehGroup_wtd + cls_0          204202.0           10.0  333783.0     -31.0   \n",
       " + VehGroup_wtd + territory_cls  205060.0          858.0  334338.0     555.0   \n",
       "\n",
       "                                      aic  aic_diff  \n",
       "Model_1                          337288.0       NaN  \n",
       " + VehGroup_wtd                  334338.0   -2950.0  \n",
       " + VehGroup_wtd + State          333367.0    -972.0  \n",
       " + VehGroup_wtd + cls_0          333371.0       4.0  \n",
       " + VehGroup_wtd + territory_cls  334185.0     814.0  "
      ]
     },
     "metadata": {},
     "output_type": "display_data"
    },
    {
     "data": {
      "text/html": [
       "<div>\n",
       "<style scoped>\n",
       "    .dataframe tbody tr th:only-of-type {\n",
       "        vertical-align: middle;\n",
       "    }\n",
       "\n",
       "    .dataframe tbody tr th {\n",
       "        vertical-align: top;\n",
       "    }\n",
       "\n",
       "    .dataframe thead th {\n",
       "        text-align: right;\n",
       "    }\n",
       "</style>\n",
       "<table border=\"1\" class=\"dataframe\">\n",
       "  <thead>\n",
       "    <tr style=\"text-align: right;\">\n",
       "      <th></th>\n",
       "      <th>RMSE_train</th>\n",
       "      <th>RMSE_train_diff</th>\n",
       "      <th>RMSE_test</th>\n",
       "      <th>RMSE_test_diff</th>\n",
       "      <th>RMAE_train</th>\n",
       "      <th>RMAE_train_diff</th>\n",
       "      <th>RMAE_test</th>\n",
       "      <th>RMAE_test_diff</th>\n",
       "    </tr>\n",
       "  </thead>\n",
       "  <tbody>\n",
       "    <tr>\n",
       "      <th>Model_1</th>\n",
       "      <td>0.034686</td>\n",
       "      <td>NaN</td>\n",
       "      <td>0.034609</td>\n",
       "      <td>NaN</td>\n",
       "      <td>0.090924</td>\n",
       "      <td>NaN</td>\n",
       "      <td>0.090956</td>\n",
       "      <td>NaN</td>\n",
       "    </tr>\n",
       "    <tr>\n",
       "      <th>+ VehGroup_wtd</th>\n",
       "      <td>0.034480</td>\n",
       "      <td>-0.000205</td>\n",
       "      <td>0.034418</td>\n",
       "      <td>-0.000190</td>\n",
       "      <td>0.089737</td>\n",
       "      <td>-0.001186</td>\n",
       "      <td>0.089818</td>\n",
       "      <td>-0.001138</td>\n",
       "    </tr>\n",
       "    <tr>\n",
       "      <th>+ VehGroup_wtd + State</th>\n",
       "      <td>0.034373</td>\n",
       "      <td>-0.000108</td>\n",
       "      <td>0.034304</td>\n",
       "      <td>-0.000114</td>\n",
       "      <td>0.089473</td>\n",
       "      <td>-0.000264</td>\n",
       "      <td>0.089536</td>\n",
       "      <td>-0.000282</td>\n",
       "    </tr>\n",
       "    <tr>\n",
       "      <th>+ VehGroup_wtd + cls_0</th>\n",
       "      <td>0.034372</td>\n",
       "      <td>-0.000000</td>\n",
       "      <td>0.034305</td>\n",
       "      <td>0.000001</td>\n",
       "      <td>0.089470</td>\n",
       "      <td>-0.000003</td>\n",
       "      <td>0.089534</td>\n",
       "      <td>-0.000002</td>\n",
       "    </tr>\n",
       "    <tr>\n",
       "      <th>+ VehGroup_wtd + territory_cls</th>\n",
       "      <td>0.034462</td>\n",
       "      <td>0.000089</td>\n",
       "      <td>0.034394</td>\n",
       "      <td>0.000089</td>\n",
       "      <td>0.089687</td>\n",
       "      <td>0.000217</td>\n",
       "      <td>0.089762</td>\n",
       "      <td>0.000228</td>\n",
       "    </tr>\n",
       "  </tbody>\n",
       "</table>\n",
       "</div>"
      ],
      "text/plain": [
       "                                 RMSE_train  RMSE_train_diff  RMSE_test  \\\n",
       "Model_1                            0.034686              NaN   0.034609   \n",
       " + VehGroup_wtd                    0.034480        -0.000205   0.034418   \n",
       " + VehGroup_wtd + State            0.034373        -0.000108   0.034304   \n",
       " + VehGroup_wtd + cls_0            0.034372        -0.000000   0.034305   \n",
       " + VehGroup_wtd + territory_cls    0.034462         0.000089   0.034394   \n",
       "\n",
       "                                 RMSE_test_diff  RMAE_train  RMAE_train_diff  \\\n",
       "Model_1                                     NaN    0.090924              NaN   \n",
       " + VehGroup_wtd                       -0.000190    0.089737        -0.001186   \n",
       " + VehGroup_wtd + State               -0.000114    0.089473        -0.000264   \n",
       " + VehGroup_wtd + cls_0                0.000001    0.089470        -0.000003   \n",
       " + VehGroup_wtd + territory_cls        0.000089    0.089687         0.000217   \n",
       "\n",
       "                                 RMAE_test  RMAE_test_diff  \n",
       "Model_1                           0.090956             NaN  \n",
       " + VehGroup_wtd                   0.089818       -0.001138  \n",
       " + VehGroup_wtd + State           0.089536       -0.000282  \n",
       " + VehGroup_wtd + cls_0           0.089534       -0.000002  \n",
       " + VehGroup_wtd + territory_cls   0.089762        0.000228  "
      ]
     },
     "metadata": {},
     "output_type": "display_data"
    }
   ],
   "source": [
    "expr_list[0]='Model_1'\n",
    "dfDeviance=pd.DataFrame(glm_score, index=glm_index, columns=expr_list).transpose()\n",
    "dfError=pd.DataFrame(score, index=score_index, columns=expr_list).transpose()\n",
    "for c in glm_index:\n",
    "    dfDeviance[c+'_diff']=dfDeviance[c].diff()#-dfDeviance.loc['no_cls',c]\n",
    "dfDeviance=dfDeviance[np.reshape([glm_index,[c+'_diff' for c in glm_index]], (-1,), order='F')]\n",
    "\n",
    "for c in score_index:\n",
    "    dfError[c+'_diff']=dfError[c].diff()#-dfDeviance.loc['no_cls',c]\n",
    "dfError=dfError[np.reshape([score_index,[c+'_diff' for c in score_index]], (-1,), order='F')]\n",
    "\n",
    "display(dfDeviance.round(decimals=0))\n",
    "display(dfError.round(decimals=6))"
   ]
  },
  {
   "cell_type": "code",
   "execution_count": 5,
   "id": "e067617b",
   "metadata": {},
   "outputs": [
    {
     "data": {
      "text/plain": [
       "(407876, 16)"
      ]
     },
     "execution_count": 5,
     "metadata": {},
     "output_type": "execute_result"
    }
   ],
   "source": [
    "test.shape"
   ]
  },
  {
   "cell_type": "code",
   "execution_count": null,
   "id": "f97941df",
   "metadata": {},
   "outputs": [],
   "source": []
  },
  {
   "cell_type": "code",
   "execution_count": 6,
   "id": "cd2b0a77",
   "metadata": {},
   "outputs": [],
   "source": [
    "expr_list[0]='Model_1'\n",
    "dfDeviance=pd.melt(pd.DataFrame(glm_score, index=glm_index, columns=expr_list).reset_index(),\n",
    "        id_vars=['index'], value_vars=expr_list)\n",
    "\n",
    "dfError=pd.melt(pd.DataFrame(score, index=score_index, columns=expr_list).reset_index(),\n",
    "        id_vars=['index'], value_vars=expr_list)\n"
   ]
  },
  {
   "cell_type": "code",
   "execution_count": 7,
   "id": "ecab763d",
   "metadata": {},
   "outputs": [
    {
     "data": {
      "text/plain": [
       "(183772.56105236948, 506126.6709104808)"
      ]
     },
     "execution_count": 7,
     "metadata": {},
     "output_type": "execute_result"
    },
    {
     "data": {
      "image/png": "[encoded data removed]",
      "text/plain": [
       "<Figure size 720x360 with 2 Axes>"
      ]
     },
     "metadata": {
      "needs_background": "light"
     },
     "output_type": "display_data"
    }
   ],
   "source": [
    "fig,axs=plt.subplots(1,2,figsize=(5*2,5*1),sharex=False, sharey=False)\n",
    "sns.barplot(data=dfDeviance, x='index', y='value', hue='variable', ax=axs[0]).set(title='Deviance')\n",
    "sns.barplot(data=dfError, x='index', y='value', hue='variable', ax=axs[1]).set(title='Error')\n",
    "axs[0].set_ylim(glm_score.min()*.9,glm_score.max()*1.5)"
   ]
  },
  {
   "cell_type": "code",
   "execution_count": null,
   "id": "fbf0058d",
   "metadata": {},
   "outputs": [],
   "source": []
  }
 ],
 "metadata": {
  "kernelspec": {
   "display_name": "Python 3 (ipykernel)",
   "language": "python",
   "name": "python3"
  },
  "language_info": {
   "codemirror_mode": {
    "name": "ipython",
    "version": 3
   },
   "file_extension": ".py",
   "mimetype": "text/x-python",
   "name": "python",
   "nbconvert_exporter": "python",
   "pygments_lexer": "ipython3",
   "version": "3.10.5"
  }
 },
 "nbformat": 4,
 "nbformat_minor": 5
}
